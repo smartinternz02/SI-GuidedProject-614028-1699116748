{
 "cells": [
  {
   "cell_type": "code",
   "execution_count": 6,
   "metadata": {},
   "outputs": [
    {
     "ename": "ModuleNotFoundError",
     "evalue": "No module named 'keras'",
     "output_type": "error",
     "traceback": [
      "\u001b[0;31m---------------------------------------------------------------------------\u001b[0m",
      "\u001b[0;31mModuleNotFoundError\u001b[0m                       Traceback (most recent call last)",
      "\u001b[1;32mc:\\Users\\Balaji\\OneDrive - vitap.ac.in\\Desktop\\image caption\\image_captioning\\test.ipynb Cell 1\u001b[0m line \u001b[0;36m2\n\u001b[1;32m      <a href='vscode-notebook-cell:/c%3A/Users/Balaji/OneDrive%20-%20vitap.ac.in/Desktop/image%20caption/image_captioning/test.ipynb#W0sZmlsZQ%3D%3D?line=0'>1</a>\u001b[0m \u001b[39mfrom\u001b[39;00m \u001b[39mconst\u001b[39;00m \u001b[39mimport\u001b[39;00m IMAGE_SIZE\n\u001b[0;32m----> <a href='vscode-notebook-cell:/c%3A/Users/Balaji/OneDrive%20-%20vitap.ac.in/Desktop/image%20caption/image_captioning/test.ipynb#W0sZmlsZQ%3D%3D?line=1'>2</a>\u001b[0m \u001b[39mfrom\u001b[39;00m \u001b[39mimage\u001b[39;00m \u001b[39mimport\u001b[39;00m load_features_from_img_path\n\u001b[1;32m      <a href='vscode-notebook-cell:/c%3A/Users/Balaji/OneDrive%20-%20vitap.ac.in/Desktop/image%20caption/image_captioning/test.ipynb#W0sZmlsZQ%3D%3D?line=2'>3</a>\u001b[0m \u001b[39mfrom\u001b[39;00m \u001b[39mmodel_helper\u001b[39;00m \u001b[39mimport\u001b[39;00m ModelName, load_captioning_model\n\u001b[1;32m      <a href='vscode-notebook-cell:/c%3A/Users/Balaji/OneDrive%20-%20vitap.ac.in/Desktop/image%20caption/image_captioning/test.ipynb#W0sZmlsZQ%3D%3D?line=3'>4</a>\u001b[0m \u001b[39mfrom\u001b[39;00m \u001b[39mcaption\u001b[39;00m \u001b[39mimport\u001b[39;00m load_tokenizer\n",
      "File \u001b[0;32m/workspaces/image_captioning/image.py:7\u001b[0m\n\u001b[1;32m      4\u001b[0m \u001b[39mfrom\u001b[39;00m \u001b[39mpathlib\u001b[39;00m \u001b[39mimport\u001b[39;00m Path\n\u001b[1;32m      6\u001b[0m \u001b[39mimport\u001b[39;00m \u001b[39mnumpy\u001b[39;00m \u001b[39mas\u001b[39;00m \u001b[39mnp\u001b[39;00m\n\u001b[0;32m----> 7\u001b[0m \u001b[39mfrom\u001b[39;00m \u001b[39mkeras\u001b[39;00m\u001b[39m.\u001b[39;00m\u001b[39mpreprocessing\u001b[39;00m\u001b[39m.\u001b[39;00m\u001b[39mimage\u001b[39;00m \u001b[39mimport\u001b[39;00m img_to_array, load_img\n\u001b[1;32m      8\u001b[0m \u001b[39mfrom\u001b[39;00m \u001b[39mkeras\u001b[39;00m\u001b[39m.\u001b[39;00m\u001b[39mmodels\u001b[39;00m \u001b[39mimport\u001b[39;00m Model\n\u001b[1;32m      9\u001b[0m \u001b[39mfrom\u001b[39;00m \u001b[39mkeras\u001b[39;00m\u001b[39m.\u001b[39;00m\u001b[39mapplications\u001b[39;00m \u001b[39mimport\u001b[39;00m DenseNet201\n",
      "\u001b[0;31mModuleNotFoundError\u001b[0m: No module named 'keras'"
     ]
    }
   ],
   "source": [
    "from const import IMAGE_SIZE\n",
    "from image import load_features_from_img_path\n",
    "from model_helper import ModelName, load_captioning_model\n",
    "from caption import load_tokenizer\n",
    "from model_helper import predict_caption\n",
    "from pyparsing import Path\n",
    "\n",
    "model = load_captioning_model(ModelName.EARLY_STOPPED_MODEL)\n",
    "tokenizer = load_tokenizer()\n",
    "max_length = 34"
   ]
  },
  {
   "cell_type": "code",
   "execution_count": 8,
   "metadata": {},
   "outputs": [
    {
     "ename": "NameError",
     "evalue": "name 'load_features_from_img_path' is not defined",
     "output_type": "error",
     "traceback": [
      "\u001b[0;31m---------------------------------------------------------------------------\u001b[0m",
      "\u001b[0;31mNameError\u001b[0m                                 Traceback (most recent call last)",
      "\u001b[1;32mc:\\Users\\Balaji\\OneDrive - vitap.ac.in\\Desktop\\image caption\\image_captioning\\test.ipynb Cell 2\u001b[0m line \u001b[0;36m1\n\u001b[0;32m----> <a href='vscode-notebook-cell:/c%3A/Users/Balaji/OneDrive%20-%20vitap.ac.in/Desktop/image%20caption/image_captioning/test.ipynb#W1sZmlsZQ%3D%3D?line=0'>1</a>\u001b[0m normalized_image \u001b[39m=\u001b[39m load_features_from_img_path( Path(\u001b[39m\"\u001b[39m\u001b[39m./assets/1000092795.jpg\u001b[39m\u001b[39m\"\u001b[39m), IMAGE_SIZE )\n\u001b[1;32m      <a href='vscode-notebook-cell:/c%3A/Users/Balaji/OneDrive%20-%20vitap.ac.in/Desktop/image%20caption/image_captioning/test.ipynb#W1sZmlsZQ%3D%3D?line=2'>3</a>\u001b[0m predict_caption(\n\u001b[1;32m      <a href='vscode-notebook-cell:/c%3A/Users/Balaji/OneDrive%20-%20vitap.ac.in/Desktop/image%20caption/image_captioning/test.ipynb#W1sZmlsZQ%3D%3D?line=3'>4</a>\u001b[0m     model,\n\u001b[1;32m      <a href='vscode-notebook-cell:/c%3A/Users/Balaji/OneDrive%20-%20vitap.ac.in/Desktop/image%20caption/image_captioning/test.ipynb#W1sZmlsZQ%3D%3D?line=4'>5</a>\u001b[0m     normalized_image,\n\u001b[1;32m      <a href='vscode-notebook-cell:/c%3A/Users/Balaji/OneDrive%20-%20vitap.ac.in/Desktop/image%20caption/image_captioning/test.ipynb#W1sZmlsZQ%3D%3D?line=5'>6</a>\u001b[0m     tokenizer,\n\u001b[1;32m      <a href='vscode-notebook-cell:/c%3A/Users/Balaji/OneDrive%20-%20vitap.ac.in/Desktop/image%20caption/image_captioning/test.ipynb#W1sZmlsZQ%3D%3D?line=6'>7</a>\u001b[0m     max_length,\n\u001b[1;32m      <a href='vscode-notebook-cell:/c%3A/Users/Balaji/OneDrive%20-%20vitap.ac.in/Desktop/image%20caption/image_captioning/test.ipynb#W1sZmlsZQ%3D%3D?line=7'>8</a>\u001b[0m )\n",
      "\u001b[0;31mNameError\u001b[0m: name 'load_features_from_img_path' is not defined"
     ]
    }
   ],
   "source": [
    "normalized_image = load_features_from_img_path( Path(\"./assets/1000092795.jpg\"), IMAGE_SIZE )\n",
    "\n",
    "predict_caption(\n",
    "    model,\n",
    "    normalized_image,\n",
    "    tokenizer,\n",
    "    max_length,\n",
    ")"
   ]
  }
 ],
 "metadata": {
  "kernelspec": {
   "display_name": "Python 3 (ipykernel)",
   "language": "python",
   "name": "python3"
  },
  "language_info": {
   "codemirror_mode": {
    "name": "ipython",
    "version": 3
   },
   "file_extension": ".py",
   "mimetype": "text/x-python",
   "name": "python",
   "nbconvert_exporter": "python",
   "pygments_lexer": "ipython3",
   "version": "3.10.8"
  }
 },
 "nbformat": 4,
 "nbformat_minor": 2
}
